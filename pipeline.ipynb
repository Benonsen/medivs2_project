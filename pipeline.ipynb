{
 "cells": [
  {
   "cell_type": "markdown",
   "id": "dc88b361",
   "metadata": {},
   "source": [
    "Input File(s)"
   ]
  },
  {
   "cell_type": "code",
   "execution_count": 28,
   "id": "74777dc0",
   "metadata": {},
   "outputs": [],
   "source": [
    "img1Path = \"./pipelineInput/0X7AFF5B2DEEE839B9_35.png\"\n",
    "img2Path = \"./pipelineInput/0X7AFF5B2DEEE839B9_47.png\""
   ]
  },
  {
   "cell_type": "markdown",
   "id": "809feb13",
   "metadata": {},
   "source": [
    "Center Model"
   ]
  },
  {
   "cell_type": "code",
   "execution_count": 29,
   "id": "00061e07",
   "metadata": {},
   "outputs": [],
   "source": [
    "import cv2\n",
    "import numpy as np\n",
    "import torch\n",
    "\n",
    "#prepare input\n",
    "def loadImage(imgPath):\n",
    "    image = cv2.imread(imgPath, cv2.IMREAD_GRAYSCALE)  # ensure 1-channel\n",
    "    if image is None:\n",
    "        raise FileNotFoundError(f\"Image not found: {imgPath}\")\n",
    "\n",
    "    image = image.astype('float32') / 255.0  # normalize manually if not using transforms\n",
    "    image = np.expand_dims(image, axis=0)    # [1, 112, 112]\n",
    "    image = np.expand_dims(image, axis=0)    # [1, 1, 112, 112], simulated dataloader\n",
    "    image = torch.tensor(image, dtype=torch.float32)\n",
    "\n",
    "    return image"
   ]
  },
  {
   "cell_type": "code",
   "execution_count": 1,
   "id": "96df77e6",
   "metadata": {},
   "outputs": [],
   "source": [
    "import torch\n",
    "import torch.nn as nn\n",
    "import torch.nn.functional as F\n",
    "\n",
    "class AttentionNet(nn.Module):\n",
    "    def __init__(self, image_size=112, patch_size=16, embed_dim=64, num_heads=4, depth=2):\n",
    "        super().__init__()\n",
    "        assert image_size % patch_size == 0, \"Image size must be divisible by patch size\"\n",
    "\n",
    "        self.patch_size = patch_size\n",
    "        self.num_patches = (image_size // patch_size) ** 2\n",
    "        self.embed_dim = embed_dim\n",
    "\n",
    "        self.patch_embed = nn.Conv2d(1, embed_dim, kernel_size=patch_size, stride=patch_size)\n",
    "\n",
    "        self.pos_embed = nn.Parameter(torch.randn(1, self.num_patches, embed_dim))\n",
    "\n",
    "        encoder_layer = nn.TransformerEncoderLayer(d_model=embed_dim, nhead=num_heads, batch_first=True)\n",
    "        self.transformer = nn.TransformerEncoder(encoder_layer, num_layers=depth)\n",
    "\n",
    "        self.head = nn.Sequential(\n",
    "        nn.LayerNorm(embed_dim),\n",
    "        nn.Linear(embed_dim, 2),\n",
    "        )\n",
    "\n",
    "    def forward(self, x):\n",
    "        x = self.patch_embed(x)\n",
    "        x = x.flatten(2).transpose(1, 2)\n",
    "        x = x + self.pos_embed\n",
    "\n",
    "        x = self.transformer(x)\n",
    "        x = x.mean(dim=1)\n",
    "\n",
    "        out = self.head(x)\n",
    "        return out"
   ]
  },
  {
   "cell_type": "code",
   "execution_count": null,
   "id": "1fb7c15e",
   "metadata": {},
   "outputs": [],
   "source": [
    "import torch\n",
    "import torch.optim as optim\n",
    "device = torch.device(\"cuda\" if torch.cuda.is_available() else \"cpu\")\n",
    "model = AttentionNet().to(device)\n",
    "\n",
    "weightsPath = \"./center_model.pth\"\n",
    "model.load_state_dict(torch.load(weightsPath, map_location=device))\n",
    "\n",
    "img1 = loadImage(img1Path)\n",
    "coord1 = model(img1.to(device))*112\n",
    "\n",
    "img2 = loadImage(img2Path)\n",
    "coord2 = model(img2.to(device))*112"
   ]
  },
  {
   "cell_type": "markdown",
   "id": "68b0d404",
   "metadata": {},
   "source": [
    "MedSam"
   ]
  },
  {
   "cell_type": "code",
   "execution_count": null,
   "id": "cac3560f",
   "metadata": {},
   "outputs": [],
   "source": []
  }
 ],
 "metadata": {
  "kernelspec": {
   "display_name": "VisMed2",
   "language": "python",
   "name": "python3"
  },
  "language_info": {
   "codemirror_mode": {
    "name": "ipython",
    "version": 3
   },
   "file_extension": ".py",
   "mimetype": "text/x-python",
   "name": "python",
   "nbconvert_exporter": "python",
   "pygments_lexer": "ipython3",
   "version": "3.13.2"
  }
 },
 "nbformat": 4,
 "nbformat_minor": 5
}

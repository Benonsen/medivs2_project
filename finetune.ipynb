{
 "cells": [
  {
   "cell_type": "code",
   "execution_count": null,
   "id": "initial_id",
   "metadata": {
    "collapsed": true
   },
   "outputs": [],
   "source": [
    ""
   ]
  },
  {
   "metadata": {
    "ExecuteTime": {
     "end_time": "2025-05-25T16:09:42.332619Z",
     "start_time": "2025-05-25T16:09:39.552003Z"
    }
   },
   "cell_type": "code",
   "source": [
    "import torch\n",
    "import numpy as np\n",
    "import cv2\n",
    "import os\n",
    "import pandas as pd\n",
    "from datasets import Dataset\n",
    "\n",
    "\n",
    "class CenterDataset(Dataset):\n",
    "    def __init__(self, csv_file, image_dir, split='TRAIN', transform=None):\n",
    "        self._data = pd.read_csv(csv_file)\n",
    "        self._data = self._data[self._data['Split'] == split].reset_index(drop=True)\n",
    "        self._data['FileName'] = self._data['FileName'].astype(str).str.strip()\n",
    "        self.image_dir:str = image_dir\n",
    "        self.transform = transform\n",
    "\n",
    "    def __len__(self):\n",
    "        return len(self._data)\n",
    "\n",
    "    def __getitem__(self, idx):\n",
    "        row = self._data.iloc[idx]\n",
    "        filename = row['FileName']\n",
    "        img_path = os.path.join(self.image_dir, filename + '.png')\n",
    "        mask_path = os.path.join(self.image_dir.replace('frames', 'mask'), filename + '.png')\n",
    "\n",
    "        image = cv2.imread(img_path, cv2.IMREAD_GRAYSCALE)  # ensure 1-channel\n",
    "        if image is None:\n",
    "            raise FileNotFoundError(f\"Image not found: {img_path}\")\n",
    "\n",
    "        image = image.astype('float32') / 255.0  # normalize manually if not using transforms\n",
    "        image = np.expand_dims(image, axis=0)    # [1, 112, 112]\n",
    "        image = torch.tensor(image, dtype=torch.float32)\n",
    "\n",
    "        mask = cv2.imread(mask_path, cv2.IMREAD_GRAYSCALE)\n",
    "        mask = (mask > 0).astype(np.uint8)\n",
    "              # Safe label extraction\n",
    "        label = torch.tensor([float(row['x']), float(row['y'])], dtype=torch.float32)\n",
    "        label /= 112.0  # normalize coordinates\n",
    "\n",
    "        return {\n",
    "            'image': image,\n",
    "            'filename': filename,\n",
    "            'mask': mask,\n",
    "            \"label\": label\n",
    "        }\n"
   ],
   "id": "b0742e0a0ddc7a2b",
   "outputs": [],
   "execution_count": 2
  },
  {
   "metadata": {
    "ExecuteTime": {
     "end_time": "2025-05-25T16:11:18.129382Z",
     "start_time": "2025-05-25T16:11:16.541834Z"
    }
   },
   "cell_type": "code",
   "source": [
    "from torchvision import transforms\n",
    "import torch\n",
    "import torch.nn.functional as F\n",
    "from torch.utils.data import DataLoader\n",
    "from torchvision.transforms import ToTensor\n",
    "from segment_anything import sam_model_registry\n",
    "from tqdm import tqdm\n",
    "\n",
    "def dice_loss(pred, target, eps=1e-6):\n",
    "    pred = pred.sigmoid()\n",
    "    inter = (pred * target).sum()\n",
    "    union = pred.sum() + target.sum()\n",
    "    return 1 - (2 * inter + eps) / (union + eps)\n",
    "\n",
    "def finetune_sam():\n",
    "    device = 'cuda' if torch.cuda.is_available() else 'cpu'\n",
    "    sam_checkpoint = \"sam_vit_h.pth\"\n",
    "    model_type = \"vit_h\"\n",
    "\n",
    "    # Load model\n",
    "    sam = sam_model_registry[model_type](checkpoint=sam_checkpoint)\n",
    "    sam.to(device)\n",
    "\n",
    "    # Freeze image encoder\n",
    "    for param in sam.image_encoder.parameters():\n",
    "        param.requires_grad = False\n",
    "\n",
    "        # Dataset\n",
    "    transform = transforms.Compose([\n",
    "        transforms.Resize((112, 112)),\n",
    "        transforms.ToTensor(),\n",
    "    ])\n",
    "\n",
    "    train_dataset = CenterDataset(csv_file=\"filelist_frames_dataset.csv\", image_dir=\"/Users/bennosteinegger/.cache/kagglehub/datasets/foghorn/echonet-frames-masks-dataset/versions/1/Echonet-Frames-Masks-Dataset/\", split=\"TRAIN\", transform=transform)\n",
    "    val_dataset = CenterDataset(csv_file=\"filelist_frames_dataset.csv\", image_dir=\"/Users/bennosteinegger/.cache/kagglehub/datasets/foghorn/echonet-frames-masks-dataset/versions/1/Echonet-Frames-Masks-Dataset/\", split=\"VAL\", transform=transform)\n",
    "    test_dataset = CenterDataset(csv_file=\"filelist_frames_dataset.csv\", image_dir=\"/Users/bennosteinegger/.cache/kagglehub/datasets/foghorn/echonet-frames-masks-dataset/versions/1/Echonet-Frames-Masks-Dataset/\", split=\"TEST\", transform=transform)\n",
    "    loader = DataLoader(train_dataset, batch_size=1, shuffle=True)\n",
    "    optimizer = torch.optim.Adam(sam.mask_decoder.parameters(), lr=1e-4)\n",
    "\n",
    "    sam.train()\n",
    "\n",
    "    for epoch in range(5):\n",
    "        loop = tqdm(loader, desc=f\"Epoch {epoch+1}\")\n",
    "        for batch in loop:\n",
    "            image = batch['image'][0].numpy().transpose(1, 2, 0)\n",
    "            center = [(batch['centerX'][0].item(), batch['centerY'][0].item())]\n",
    "            gt_mask = batch['mask'].to(device).float().unsqueeze(1)\n",
    "\n",
    "            # Encode image\n",
    "            image_tensor = sam.preprocess(image, return_torch=True).to(device)\n",
    "            with torch.no_grad():\n",
    "                image_embedding = sam.image_encoder(image_tensor)\n",
    "\n",
    "            # Prepare prompt\n",
    "            point_coords = torch.tensor(center, device=device).unsqueeze(0).float()\n",
    "            point_labels = torch.tensor([[1]], device=device)\n",
    "\n",
    "            sparse_embeddings, dense_embeddings = sam.prompt_encoder(\n",
    "                points=(point_coords, point_labels),\n",
    "                boxes=None,\n",
    "                masks=None\n",
    "            )\n",
    "\n",
    "            low_res_masks, _ = sam.mask_decoder(\n",
    "                image_embeddings=image_embedding,\n",
    "                image_pe=sam.prompt_encoder.get_dense_pe(),\n",
    "                sparse_prompt_embeddings=sparse_embeddings,\n",
    "                dense_prompt_embeddings=dense_embeddings,\n",
    "                multimask_output=False\n",
    "            )\n",
    "\n",
    "            pred_mask = F.interpolate(low_res_masks, size=gt_mask.shape[-2:], mode='bilinear', align_corners=False)\n",
    "\n",
    "            loss = dice_loss(pred_mask, gt_mask)\n",
    "\n",
    "            optimizer.zero_grad()\n",
    "            loss.backward()\n",
    "            optimizer.step()\n",
    "\n",
    "            loop.set_postfix(loss=loss.item())\n",
    "\n",
    "    torch.save(sam.state_dict(), 'finetuned_sam.pth')\n",
    "\n",
    "finetune_sam()\n"
   ],
   "id": "3caefca6bf87a2ed",
   "outputs": [
    {
     "ename": "ModuleNotFoundError",
     "evalue": "No module named 'segment_anything'",
     "output_type": "error",
     "traceback": [
      "\u001B[31m---------------------------------------------------------------------------\u001B[39m",
      "\u001B[31mModuleNotFoundError\u001B[39m                       Traceback (most recent call last)",
      "\u001B[36mCell\u001B[39m\u001B[36m \u001B[39m\u001B[32mIn[3]\u001B[39m\u001B[32m, line 6\u001B[39m\n\u001B[32m      4\u001B[39m \u001B[38;5;28;01mfrom\u001B[39;00m\u001B[38;5;250m \u001B[39m\u001B[34;01mtorch\u001B[39;00m\u001B[34;01m.\u001B[39;00m\u001B[34;01mutils\u001B[39;00m\u001B[34;01m.\u001B[39;00m\u001B[34;01mdata\u001B[39;00m\u001B[38;5;250m \u001B[39m\u001B[38;5;28;01mimport\u001B[39;00m DataLoader\n\u001B[32m      5\u001B[39m \u001B[38;5;28;01mfrom\u001B[39;00m\u001B[38;5;250m \u001B[39m\u001B[34;01mtorchvision\u001B[39;00m\u001B[34;01m.\u001B[39;00m\u001B[34;01mtransforms\u001B[39;00m\u001B[38;5;250m \u001B[39m\u001B[38;5;28;01mimport\u001B[39;00m ToTensor\n\u001B[32m----> \u001B[39m\u001B[32m6\u001B[39m \u001B[38;5;28;01mfrom\u001B[39;00m\u001B[38;5;250m \u001B[39m\u001B[34;01msegment_anything\u001B[39;00m\u001B[38;5;250m \u001B[39m\u001B[38;5;28;01mimport\u001B[39;00m sam_model_registry\n\u001B[32m      7\u001B[39m \u001B[38;5;28;01mfrom\u001B[39;00m\u001B[38;5;250m \u001B[39m\u001B[34;01mtqdm\u001B[39;00m\u001B[38;5;250m \u001B[39m\u001B[38;5;28;01mimport\u001B[39;00m tqdm\n\u001B[32m      9\u001B[39m \u001B[38;5;28;01mdef\u001B[39;00m\u001B[38;5;250m \u001B[39m\u001B[34mdice_loss\u001B[39m(pred, target, eps=\u001B[32m1e-6\u001B[39m):\n",
      "\u001B[31mModuleNotFoundError\u001B[39m: No module named 'segment_anything'"
     ]
    }
   ],
   "execution_count": 3
  },
  {
   "metadata": {},
   "cell_type": "code",
   "outputs": [],
   "execution_count": null,
   "source": "",
   "id": "9dbef3c7bdd6f931"
  }
 ],
 "metadata": {
  "kernelspec": {
   "display_name": "medivs2kernel",
   "language": "python",
   "name": "medivs2kernel"
  },
  "language_info": {
   "codemirror_mode": {
    "name": "ipython",
    "version": 2
   },
   "file_extension": ".py",
   "mimetype": "text/x-python",
   "name": "python",
   "nbconvert_exporter": "python",
   "pygments_lexer": "ipython2",
   "version": "2.7.6"
  }
 },
 "nbformat": 4,
 "nbformat_minor": 5
}

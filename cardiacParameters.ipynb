{
 "cells": [
  {
   "cell_type": "code",
   "execution_count": 78,
   "id": "a4920efd",
   "metadata": {},
   "outputs": [],
   "source": [
    "import os\n",
    "from PIL import Image\n",
    "import numpy\n",
    "import cv2\n",
    "import matplotlib.pyplot as plt\n",
    "from math import atan2, cos, sin, sqrt, pi, radians, degrees"
   ]
  },
  {
   "cell_type": "code",
   "execution_count": 136,
   "id": "baaaf7b9",
   "metadata": {},
   "outputs": [],
   "source": [
    "def getOrientation(pts, img, draw=False):\n",
    "    \"\"\"Get the center and angle of a contour (main axis relative to the x-axis)\n",
    "\n",
    "    Args:\n",
    "        pts (_type_): points of the contour\n",
    "        img (_type_): base image\n",
    "        draw (bool, optional): Draw axes and center on the image. Defaults to False.\n",
    "\n",
    "    Returns:\n",
    "        cntr (tuple): center of the contour\n",
    "        angle (tuple): angle of the contour\n",
    "    \"\"\"\n",
    "\n",
    "    #https://docs.opencv.org/3.4/d1/dee/tutorial_introduction_to_pca.html\n",
    "    sz = len(pts)\n",
    "    data_pts = numpy.empty((sz, 2), dtype=numpy.float64)\n",
    "    for i in range(data_pts.shape[0]):\n",
    "        data_pts[i,0] = pts[i,0,0]\n",
    "        data_pts[i,1] = pts[i,0,1]\n",
    "    # Perform PCA analysis\n",
    "    mean = numpy.empty((0))\n",
    "    mean, eigenvectors, eigenvalues = cv2.PCACompute2(data_pts, mean)\n",
    "    # Store the center of the object\n",
    "    cntr = (int(mean[0,0]), int(mean[0,1]))\n",
    "    \n",
    "    \n",
    "    p1 = (cntr[0] + eigenvectors[0,0] * eigenvalues[0,0], cntr[1] + eigenvectors[0,1] * eigenvalues[0,0])\n",
    "    p2 = (cntr[0] - eigenvectors[1,0] * eigenvalues[1,0], cntr[1] - eigenvectors[1,1] * eigenvalues[1,0])\n",
    "    if(draw):\n",
    "        cv2.circle(img, cntr, 3, (255, 0, 255), 0)\n",
    "        cv2.line(img, cntr, tuple(map(round, p2)), (0, 255, 0), 1)\n",
    "        cv2.line(img, cntr, tuple(map(round, p1)), (255, 0, 0), 1)\n",
    "    angle = degrees(atan2(eigenvectors[0,1], eigenvectors[0,0])) # orientation in degrees\n",
    "    \n",
    "    return cntr, angle\n",
    "\n",
    "\n",
    "def rotateImage(img, angle, point):\n",
    "#https://stackoverflow.com/questions/9041681/opencv-python-rotate-image-by-x-degrees-around-specific-point\n",
    "    # angle-90 do orient the shape vertically\n",
    "    rot_mat = cv2.getRotationMatrix2D(point, angle-90, 1.0)\n",
    "    res = cv2.warpAffine(img, rot_mat, img.shape[1::-1], flags=cv2.INTER_LINEAR)\n",
    "    return res\n",
    "\n",
    "def getContour(img):\n",
    "    #expects there to be only one shape/contour\n",
    "    thresh = 127\n",
    "    im_bw = cv2.threshold(cv2.cvtColor(img, cv2.COLOR_BGR2GRAY), thresh, 255, cv2.THRESH_BINARY)[1]\n",
    "    c, _ = cv2.findContours(im_bw, cv2.RETR_EXTERNAL, cv2.CHAIN_APPROX_NONE)\n",
    "    return c[0]"
   ]
  },
  {
   "cell_type": "code",
   "execution_count": 121,
   "id": "7a3b9efe",
   "metadata": {},
   "outputs": [],
   "source": [
    "\n",
    "def calculate_ejection_fraction(mask1, mask2):\n",
    "    \"\"\"\n",
    "    Calculate the cardiac parameters, using the systolic and diastolic mask as an input. The mask featuring the smaller volume is assumend as the \"End of systole\" mask.\n",
    "\n",
    "\n",
    "    Args:\n",
    "        mask1 (_type_): _description_\n",
    "        mask2 (_type_): _description_\n",
    "\n",
    "    Returns:\n",
    "        ef (float): Ejection fraction calculated from esv and edv\n",
    "    \"\"\"\n",
    "\n",
    "    v1 = calculate_volume(mask1)\n",
    "    v2 = calculate_volume(mask2)\n",
    "\n",
    "    #not absolute values\n",
    "    esv = min(v1, v2)\n",
    "    edv = max(v1, v2)\n",
    "    ef = (edv-esv)/edv\n",
    "\n",
    "    return ef\n",
    "\n",
    "def calculate_volume(mask):\n",
    "    \"\"\"Calculates the relative volume of the ventricle, using a mask as input. \n",
    "\n",
    "    Args:\n",
    "        mask (_type_): mask of the ventricle\n",
    "\n",
    "    Returns:\n",
    "        volume (float): volume of the ventricle\n",
    "    \"\"\"\n",
    "\n",
    "    initialContour = getContour(mask)\n",
    "    center, angle = getOrientation(initialContour, mask)\n",
    "    rotatedMask = rotateImage(mask, angle, center)\n",
    "    contour = getContour(rotatedMask)\n",
    "    c = numpy.array(contour).squeeze()\n",
    "\n",
    "    sum = 0\n",
    "    for i in range(min(c[:,1]), max(c[:,1])+1):\n",
    "        indices = numpy.where(c[:, 1] == i)[0]\n",
    "        points = c[indices]\n",
    "        x1 = min(points[:, 0])\n",
    "        x2 = max(points[:, 0])\n",
    "        r = abs(x2-x1) / 2\n",
    "        sum += pow(r, 2)*pi\n",
    "\n",
    "    return sum"
   ]
  },
  {
   "cell_type": "code",
   "execution_count": 137,
   "id": "27954c63",
   "metadata": {},
   "outputs": [
    {
     "name": "stdout",
     "output_type": "stream",
     "text": [
      "0.2912179647716839\n"
     ]
    }
   ],
   "source": [
    "#load test data\n",
    "maskImg1 = Image.open(\"./maskTestdata/0XFEBEEFF93F6FEB9_38.png\")\n",
    "maskImg2 = Image.open(\"./maskTestdata/0XFEBEEFF93F6FEB9_25.png\")\n",
    "mask1 = cv2.cvtColor(numpy.array(maskImg1), cv2.COLOR_RGB2BGR)\n",
    "mask2 = cv2.cvtColor(numpy.array(maskImg2), cv2.COLOR_RGB2BGR)\n",
    "print(calculate_ejection_fraction(mask1, mask2))\n",
    "# print(calculate_volume(mask1))\n"
   ]
  },
  {
   "cell_type": "code",
   "execution_count": 307,
   "id": "828cfbd7",
   "metadata": {},
   "outputs": [
    {
     "data": {
      "image/png": "[encoded data removed]",
      "text/plain": [
       "<Figure size 640x480 with 2 Axes>"
      ]
     },
     "metadata": {},
     "output_type": "display_data"
    }
   ],
   "source": [
    "plt.subplot(1, 2, 1)\n",
    "plt.imshow(mask1)\n",
    "c, _ = cv2.findContours(cv2.cvtColor(mask1, cv2.COLOR_BGR2GRAY), cv2.RETR_EXTERNAL, cv2.CHAIN_APPROX_NONE)\n",
    "cv2.drawContours(mask1, c, 0, (0, 0, 255), 1)\n",
    "plt.subplot(1, 2, 2)\n",
    "plt.imshow(mask1)\n",
    "plt.show()"
   ]
  }
 ],
 "metadata": {
  "kernelspec": {
   "display_name": "VisMed2",
   "language": "python",
   "name": "python3"
  },
  "language_info": {
   "codemirror_mode": {
    "name": "ipython",
    "version": 3
   },
   "file_extension": ".py",
   "mimetype": "text/x-python",
   "name": "python",
   "nbconvert_exporter": "python",
   "pygments_lexer": "ipython3",
   "version": "3.11.11"
  }
 },
 "nbformat": 4,
 "nbformat_minor": 5
}

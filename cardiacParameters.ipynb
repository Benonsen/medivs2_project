{
 "cells": [
  {
   "cell_type": "markdown",
   "id": "4b9c029c",
   "metadata": {},
   "source": []
  },
  {
   "cell_type": "code",
   "execution_count": null,
   "id": "a4920efd",
   "metadata": {},
   "outputs": [],
   "source": [
    "import os\n",
    "from PIL import Image\n",
    "import numpy"
   ]
  },
  {
   "cell_type": "code",
   "execution_count": null,
   "id": "7a3b9efe",
   "metadata": {},
   "outputs": [],
   "source": [
    "\n",
    "def calculate_cardiac_parameters(mask1, mask2):\n",
    "    \"\"\"\n",
    "    Calculate the cardiac parameters, using the systolic and diastolic mask as an input. The mask featuring the smaller volume is assumend as the \"End of systole\" mask.\n",
    "\n",
    "\n",
    "    Args:\n",
    "        mask1 (_type_): _description_\n",
    "        mask2 (_type_): _description_\n",
    "\n",
    "    Returns:\n",
    "        ef (float): Ejection fraction calculated from esv and edv\n",
    "        esv (float): End systolic volume\n",
    "        edv (float): End diastolic volume\n",
    "    \"\"\"\n",
    "\n",
    "    v1 = calculate_volume(mask1)\n",
    "    v2 = calculate_volume(mask2)\n",
    "\n",
    "    esv = min(v1, v2)\n",
    "    edv = max(v1, v2)\n",
    "    ef = (edv-esv)/edv\n",
    "\n",
    "    return ef, esv, edv\n",
    "\n",
    "def calculate_volume(mask):\n",
    "    \"\"\"Calculates the volume of the ventricle, using a mask as input. \n",
    "\n",
    "    Args:\n",
    "        mask (_type_): mask of the ventricle\n",
    "\n",
    "    Returns:\n",
    "        volume (float): volume of the ventricle\n",
    "    \"\"\"\n",
    "\n",
    "    \n",
    "\n",
    "    return volume"
   ]
  }
 ],
 "metadata": {
  "language_info": {
   "name": "python"
  }
 },
 "nbformat": 4,
 "nbformat_minor": 5
}
